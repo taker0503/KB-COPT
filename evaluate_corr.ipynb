{
 "cells": [
  {
   "cell_type": "code",
   "execution_count": 5,
   "metadata": {},
   "outputs": [
    {
     "name": "stderr",
     "output_type": "stream",
     "text": [
      "Some weights of the model checkpoint at /Users/user/KB_AI/KB_similarity/KB_ALBERT were not used when initializing AlbertModel: ['predictions.decoder.bias', 'predictions.LayerNorm.weight', 'sop_classifier.classifier.weight', 'predictions.decoder.weight', 'sop_classifier.classifier.bias', 'predictions.LayerNorm.bias', 'predictions.dense.weight', 'predictions.bias', 'predictions.dense.bias']\n",
      "- This IS expected if you are initializing AlbertModel from the checkpoint of a model trained on another task or with another architecture (e.g. initializing a BertForSequenceClassification model from a BertForPreTraining model).\n",
      "- This IS NOT expected if you are initializing AlbertModel from the checkpoint of a model that you expect to be exactly identical (initializing a BertForSequenceClassification model from a BertForSequenceClassification model).\n"
     ]
    }
   ],
   "source": [
    "import numpy as np\n",
    "import pandas as pd\n",
    "import faiss\n",
    "import torch\n",
    "from transformers import AutoModel, AutoTokenizer\n",
    "from bert import BERT\n",
    "\n",
    "model_path = '/Users/user/KB_AI/KB_similarity/KB_ALBERT'\n",
    "\n",
    "model = BERT(AutoModel.from_pretrained(model_path))\n",
    "tokenizer = AutoTokenizer.from_pretrained(model_path)"
   ]
  },
  {
   "cell_type": "code",
   "execution_count": 6,
   "metadata": {},
   "outputs": [],
   "source": [
    "sts_dataset = pd.read_csv('../Dataset/kb_dataset_sts_all.csv').drop('Unnamed: 0',axis=1)"
   ]
  },
  {
   "cell_type": "code",
   "execution_count": 7,
   "metadata": {},
   "outputs": [
    {
     "data": {
      "text/html": [
       "<div>\n",
       "<style scoped>\n",
       "    .dataframe tbody tr th:only-of-type {\n",
       "        vertical-align: middle;\n",
       "    }\n",
       "\n",
       "    .dataframe tbody tr th {\n",
       "        vertical-align: top;\n",
       "    }\n",
       "\n",
       "    .dataframe thead th {\n",
       "        text-align: right;\n",
       "    }\n",
       "</style>\n",
       "<table border=\"1\" class=\"dataframe\">\n",
       "  <thead>\n",
       "    <tr style=\"text-align: right;\">\n",
       "      <th></th>\n",
       "      <th>sent1</th>\n",
       "      <th>sent2</th>\n",
       "      <th>score</th>\n",
       "    </tr>\n",
       "  </thead>\n",
       "  <tbody>\n",
       "    <tr>\n",
       "      <th>0</th>\n",
       "      <td>'[Company]에서는 첫 자산 연동 고객을 대상으로 프로모션 코드 입력 시 즉시...</td>\n",
       "      <td>'**은행에서는 고객님께 자산관리, 지출관리, 금융플러스 서비스 등을 제공하는 마이...</td>\n",
       "      <td>3.5</td>\n",
       "    </tr>\n",
       "    <tr>\n",
       "      <th>1</th>\n",
       "      <td>'[[Company]]에서는 발행어음 가입 이벤트를 진행 중으로, 1천만원 이상 순...</td>\n",
       "      <td>해당 카드를 이용해 총 100만원 이상 결제 시 2만원 캐시백을 받을 수 있는 이벤...</td>\n",
       "      <td>2.5</td>\n",
       "    </tr>\n",
       "    <tr>\n",
       "      <th>2</th>\n",
       "      <td>'**은행에서는 단 하루 동안 스마트폰뱅킹 서비스를 이용하는 고객에게 아메리카노 모...</td>\n",
       "      <td>'**은행'에서 직장인 고객을 대상으로 급여이체를 통해 다양한 혜택을 제공하는 이벤...</td>\n",
       "      <td>2.0</td>\n",
       "    </tr>\n",
       "  </tbody>\n",
       "</table>\n",
       "</div>"
      ],
      "text/plain": [
       "                                               sent1  \\\n",
       "0  '[Company]에서는 첫 자산 연동 고객을 대상으로 프로모션 코드 입력 시 즉시...   \n",
       "1  '[[Company]]에서는 발행어음 가입 이벤트를 진행 중으로, 1천만원 이상 순...   \n",
       "2  '**은행에서는 단 하루 동안 스마트폰뱅킹 서비스를 이용하는 고객에게 아메리카노 모...   \n",
       "\n",
       "                                               sent2  score  \n",
       "0  '**은행에서는 고객님께 자산관리, 지출관리, 금융플러스 서비스 등을 제공하는 마이...    3.5  \n",
       "1  해당 카드를 이용해 총 100만원 이상 결제 시 2만원 캐시백을 받을 수 있는 이벤...    2.5  \n",
       "2  '**은행'에서 직장인 고객을 대상으로 급여이체를 통해 다양한 혜택을 제공하는 이벤...    2.0  "
      ]
     },
     "execution_count": 7,
     "metadata": {},
     "output_type": "execute_result"
    }
   ],
   "source": [
    "sts_dataset.iloc[:3]"
   ]
  },
  {
   "cell_type": "code",
   "execution_count": 9,
   "metadata": {},
   "outputs": [],
   "source": [
    "from numpy import dot\n",
    "from numpy.linalg import norm\n",
    "\n",
    "def convert_to_tensor(corpus, tokenizer):\n",
    "    inputs = tokenizer(corpus,\n",
    "                       truncation=True,\n",
    "                       return_tensors=\"pt\",\n",
    "                       max_length=50,\n",
    "                       padding=\"max_length\")\n",
    "    \n",
    "    embedding = inputs['input_ids']\n",
    "    attention_mask = inputs['attention_mask']\n",
    "    token_type_ids = inputs['token_type_ids']\n",
    "        \n",
    "    inputs = {'source': torch.LongTensor(embedding),\n",
    "              'token_type_ids': torch.LongTensor(token_type_ids),\n",
    "              'attention_mask': attention_mask}\n",
    "    \n",
    "    return inputs\n",
    "\n",
    "def cos_sim(df):\n",
    "  A = df.sent1\n",
    "  B = df.sent2\n",
    "  query_embedding_A = model.encode(convert_to_tensor(A, tokenizer))\n",
    "  query_embedding_A = query_embedding_A.detach().numpy()\n",
    "\n",
    "  query_embedding_B = model.encode(convert_to_tensor(B, tokenizer))\n",
    "  query_embedding_B = query_embedding_B.detach().numpy()\n",
    "\n",
    "  cos_sim = dot(query_embedding_A, query_embedding_B.T)/(norm(query_embedding_A)*norm(query_embedding_B))\n",
    "  cos_sim = round(cos_sim[0][0],2)\n",
    "  return cos_sim\n",
    "sts_dataset['cosine_similarity'] = sts_dataset[:3740].apply(cos_sim,axis=1)\n",
    "sts_dataset['normalized_score'] = sts_dataset['score'].apply(lambda x: round(x/5,2))\n",
    "    "
   ]
  },
  {
   "cell_type": "code",
   "execution_count": null,
   "metadata": {},
   "outputs": [],
   "source": [
    "from scipy.stats import pearsonr\n",
    "from scipy.stats import spearmanr\n",
    "\n",
    "print('score와 cosine similarity 사이 pearson상관관계:',round(pearsonr(sts_dataset.iloc['cosine_similarity'],sts_dataset.iloc['normalized_score'])[0],4))\n",
    "print('score와 cosine similarity 사이 spear상관관계:',round(spearmanr(sts_dataset.iloc['cosine_similarity'],sts_dataset.iloc['normalized_score'])[0],4))"
   ]
  }
 ],
 "metadata": {
  "kernelspec": {
   "display_name": "Python 3",
   "language": "python",
   "name": "python3"
  },
  "language_info": {
   "codemirror_mode": {
    "name": "ipython",
    "version": 3
   },
   "file_extension": ".py",
   "mimetype": "text/x-python",
   "name": "python",
   "nbconvert_exporter": "python",
   "pygments_lexer": "ipython3",
   "version": "3.11.4"
  },
  "orig_nbformat": 4
 },
 "nbformat": 4,
 "nbformat_minor": 2
}
